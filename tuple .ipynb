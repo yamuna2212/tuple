{
 "cells": [
  {
   "cell_type": "code",
   "execution_count": null,
   "id": "683062de",
   "metadata": {},
   "outputs": [],
   "source": [
    "#1.Write a Python program to create a tuple of numbers from 1 to 10 and print it.\n",
    "#2.Write a Python program to create a tuple of three items: a string, a number, and a boolean value, and print it.\n",
    "#3.Write a Python program to unpack a tuple of three items into separate variables and print them.\n",
    "#4.Write a Python program to concatenate two tuples and print the result.\n",
    "#5.Write a Python program to sort a tuple of strings in alphabetical order and print the sorted tuple.\n",
    "#6.Write a Python program to count the number of occurrences of a specific item in a tuple.\n",
    "#7.Write a Python program to convert a tuple to a list and print the result.\n",
    "#8.Write a Python program to convert a list to a tuple and print the result.\n",
    "#9.Write a Python program to find the index of the first occurrence of a specific item in a tuple.\n",
    "#10.Write a Python program to remove an item from a tuple and print the result.\n"
   ]
  },
  {
   "cell_type": "code",
   "execution_count": 7,
   "id": "916afe5c",
   "metadata": {},
   "outputs": [
    {
     "name": "stdout",
     "output_type": "stream",
     "text": [
      "(1, 2, 3, 4, 5, 6, 7, 8, 9, 10)\n"
     ]
    }
   ],
   "source": [
    "#1.Write a Python program to create a tuple of numbers from 1 to 10 and print it.\n",
    "\n",
    "e = tuple(range(1, 11))\n",
    "print(e)\n"
   ]
  },
  {
   "cell_type": "code",
   "execution_count": 10,
   "id": "78ee97bc",
   "metadata": {},
   "outputs": [
    {
     "data": {
      "text/plain": [
       "(12, 'hello', True)"
      ]
     },
     "execution_count": 10,
     "metadata": {},
     "output_type": "execute_result"
    }
   ],
   "source": [
    "#2.Write a Python program to create a tuple of three items: a string, a number, and a boolean value, and print it.\n",
    "list1=[12,\"hello\",True]\n",
    "l=tuple(list1)\n",
    "l"
   ]
  },
  {
   "cell_type": "code",
   "execution_count": 11,
   "id": "32d31fd0",
   "metadata": {},
   "outputs": [
    {
     "name": "stdout",
     "output_type": "stream",
     "text": [
      "hello\n",
      "42\n",
      "True\n"
     ]
    }
   ],
   "source": [
    "#3.Write a Python program to unpack a tuple of three items into separate variables and print them.\n",
    "my_tuple = (\"hello\", 42, True)\n",
    "string_var, number_var, bool_var = my_tuple\n",
    "print(string_var)\n",
    "print(number_var)\n",
    "print(bool_var)\n"
   ]
  },
  {
   "cell_type": "code",
   "execution_count": 12,
   "id": "1068a764",
   "metadata": {},
   "outputs": [
    {
     "name": "stdout",
     "output_type": "stream",
     "text": [
      "(1, 2, 3, 4, 5, 4, 5, 6, 7, 8)\n"
     ]
    }
   ],
   "source": [
    "#4.Write a Python program to concatenate two tuples and print the result.\n",
    "a=(1,2,3,4,5)\n",
    "b=(4,5,6,7,8)\n",
    "c=a+b\n",
    "print(c)"
   ]
  },
  {
   "cell_type": "code",
   "execution_count": 19,
   "id": "8addb23e",
   "metadata": {},
   "outputs": [
    {
     "data": {
      "text/plain": [
       "['and', 'goo', 'hello', 'world']"
      ]
     },
     "execution_count": 19,
     "metadata": {},
     "output_type": "execute_result"
    }
   ],
   "source": [
    "#5.Write a Python program to sort a tuple of strings in alphabetical order and print the sorted tuple.\n",
    "my_tuple = (\"hello\", \"world\", \"goo\", \"and\")\n",
    "sorted_list = sorted(my_tuple)\n",
    "sorted_list\n"
   ]
  },
  {
   "cell_type": "code",
   "execution_count": 21,
   "id": "2639639e",
   "metadata": {},
   "outputs": [
    {
     "name": "stdout",
     "output_type": "stream",
     "text": [
      "4\n"
     ]
    }
   ],
   "source": [
    "#6.Write a Python program to count the number of occurrences of a specific item in a tuple.\n",
    "my_tuple = (1, 2, 3, 4, 5, 4, 4, 6, 4)\n",
    "item_count = my_tuple.count(4)\n",
    "print(item_count)\n",
    "    \n"
   ]
  },
  {
   "cell_type": "code",
   "execution_count": 23,
   "id": "39944332",
   "metadata": {},
   "outputs": [
    {
     "name": "stdout",
     "output_type": "stream",
     "text": [
      "[1, 'hello', 'start', 23]\n"
     ]
    }
   ],
   "source": [
    "#7.Write a Python program to convert a tuple to a list and print the result.\n",
    "list1=(1,\"hello\",\"start\",23)\n",
    "t=list(list1)\n",
    "print(t)"
   ]
  },
  {
   "cell_type": "code",
   "execution_count": 24,
   "id": "5777364b",
   "metadata": {},
   "outputs": [
    {
     "name": "stdout",
     "output_type": "stream",
     "text": [
      "(1, 'hello', 'start', 23)\n"
     ]
    }
   ],
   "source": [
    "#8.Write a Python program to convert a list to a tuple and print the result.\n",
    "list1=(1,\"hello\",\"start\",23)\n",
    "t=tuple(list1)\n",
    "print(t)"
   ]
  },
  {
   "cell_type": "code",
   "execution_count": 25,
   "id": "3773456e",
   "metadata": {},
   "outputs": [
    {
     "name": "stdout",
     "output_type": "stream",
     "text": [
      "2\n"
     ]
    }
   ],
   "source": [
    "#9.Write a Python program to find the index of the first occurrence of a specific item in a tuple.\n",
    "my_tuple = (10, 20, 30, 40, 50, 30, 60)\n",
    "item_index = my_tuple.index(30)\n",
    "print(item_index)\n"
   ]
  },
  {
   "cell_type": "code",
   "execution_count": 29,
   "id": "f2a7aab1",
   "metadata": {},
   "outputs": [
    {
     "name": "stdout",
     "output_type": "stream",
     "text": [
      "(10, 20, 40, 50, 30, 60)\n"
     ]
    }
   ],
   "source": [
    "#10.Write a Python program to remove an item from a tuple and print the result.\n",
    "my_list = [10, 20, 30, 40, 50, 30, 60]\n",
    "my_list.remove(30)\n",
    "my_tuple = tuple(my_list)\n",
    "print(my_tuple)\n"
   ]
  },
  {
   "cell_type": "code",
   "execution_count": null,
   "id": "52541720",
   "metadata": {},
   "outputs": [],
   "source": []
  },
  {
   "cell_type": "code",
   "execution_count": null,
   "id": "ff0890f9",
   "metadata": {},
   "outputs": [],
   "source": []
  },
  {
   "cell_type": "code",
   "execution_count": null,
   "id": "2a5e3bcd",
   "metadata": {},
   "outputs": [],
   "source": []
  }
 ],
 "metadata": {
  "kernelspec": {
   "display_name": "Python 3 (ipykernel)",
   "language": "python",
   "name": "python3"
  },
  "language_info": {
   "codemirror_mode": {
    "name": "ipython",
    "version": 3
   },
   "file_extension": ".py",
   "mimetype": "text/x-python",
   "name": "python",
   "nbconvert_exporter": "python",
   "pygments_lexer": "ipython3",
   "version": "3.10.1"
  }
 },
 "nbformat": 4,
 "nbformat_minor": 5
}
